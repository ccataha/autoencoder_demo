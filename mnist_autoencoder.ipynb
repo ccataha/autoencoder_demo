{
  "nbformat": 4,
  "nbformat_minor": 0,
  "metadata": {
    "kernelspec": {
      "display_name": "Python 3",
      "language": "python",
      "name": "python3"
    },
    "language_info": {
      "codemirror_mode": {
        "name": "ipython",
        "version": 3
      },
      "file_extension": ".py",
      "mimetype": "text/x-python",
      "name": "python",
      "nbconvert_exporter": "python",
      "pygments_lexer": "ipython3",
      "version": "3.7.6"
    },
    "papermill": {
      "duration": 348.050659,
      "end_time": "2021-02-06T15:07:58.787716",
      "environment_variables": {},
      "exception": null,
      "input_path": "__notebook__.ipynb",
      "output_path": "__notebook__.ipynb",
      "parameters": {},
      "start_time": "2021-02-06T15:02:10.737057",
      "version": "2.1.0"
    },
    "colab": {
      "name": "mnist autoencoder.ipynb",
      "provenance": []
    }
  },
  "cells": [
    {
      "cell_type": "markdown",
      "metadata": {
        "papermill": {
          "duration": 0.017795,
          "end_time": "2021-02-06T15:02:15.922523",
          "exception": false,
          "start_time": "2021-02-06T15:02:15.904728",
          "status": "completed"
        },
        "tags": [],
        "id": "WlRvn4U3bbOT"
      },
      "source": [
        "# Пример применения автоэнкодера для решения задачи реконструкции изображений для датасета MNIST\n",
        "Выполнил: Ландызин А.Н. М092101(71)\n",
        "<hr>\n",
        "\n",
        " * **Автоэнкодер** \n",
        " : тип искусственной нейронной сети, используемой для обучения эффективному кодированию данных неконтролируемым образом\n",
        " \n",
        " Основные структурные части автоэнкодера:\n",
        " * **Энкодер g** : преобразует входной сигнал в его представление (код) | $h = g(x)$\n",
        " * **Декодер f** : преообразует код в выходные данные | $x = f(h) $\n",
        "\n",
        "В общем смысле автоэнкодер изменяя f и g стремится выучить тождественную функцию $x = f(g(x))$ минимизируя ошибку.\n",
        "\n",
        " * **Потенциал применения** : \n",
        "1. Снижение размерности \n",
        "2. Минимизация шума\n",
        "3. Детектирование аномалий\n",
        "\n"
      ]
    },
    {
      "cell_type": "markdown",
      "metadata": {
        "papermill": {
          "duration": 0.013653,
          "end_time": "2021-02-06T15:02:15.951871",
          "exception": false,
          "start_time": "2021-02-06T15:02:15.938218",
          "status": "completed"
        },
        "tags": [],
        "id": "ZmydJ1L-bbOX"
      },
      "source": [
        "<hr>\n",
        "\n",
        "<a id=\"one\"></a>\n",
        "\n",
        "# 1.Импорты"
      ]
    },
    {
      "cell_type": "code",
      "metadata": {
        "_cell_guid": "b1076dfc-b9ad-4769-8c92-a6c4dae69d19",
        "_uuid": "8f2839f25d086af736a60e9eeb907d3b93b6e0e5",
        "execution": {
          "iopub.execute_input": "2021-02-06T15:02:15.986774Z",
          "iopub.status.busy": "2021-02-06T15:02:15.986118Z",
          "iopub.status.idle": "2021-02-06T15:02:24.324731Z",
          "shell.execute_reply": "2021-02-06T15:02:24.323352Z"
        },
        "papermill": {
          "duration": 8.359418,
          "end_time": "2021-02-06T15:02:24.324877",
          "exception": false,
          "start_time": "2021-02-06T15:02:15.965459",
          "status": "completed"
        },
        "tags": [],
        "id": "HTEMN6UubbOY"
      },
      "source": [
        "from google.colab import drive\n",
        "import tensorflow as tf\n",
        "from keras.layers import Dense, Input, Conv2D, LSTM, MaxPool2D, UpSampling2D\n",
        "from sklearn.model_selection import train_test_split\n",
        "from keras.callbacks import EarlyStopping\n",
        "from tensorflow.keras.utils import to_categorical\n",
        "from numpy import argmax, array_equal\n",
        "import matplotlib.pyplot as plt\n",
        "from keras.models import Model\n",
        "from imgaug import augmenters\n",
        "from random import randint\n",
        "import pandas as pd\n",
        "import numpy as np"
      ],
      "execution_count": 1,
      "outputs": []
    },
    {
      "cell_type": "markdown",
      "metadata": {
        "papermill": {
          "duration": 0.013392,
          "end_time": "2021-02-06T15:02:24.352456",
          "exception": false,
          "start_time": "2021-02-06T15:02:24.339064",
          "status": "completed"
        },
        "tags": [],
        "id": "E6vVHQk7bbOa"
      },
      "source": [
        "<hr>\n",
        "\n",
        "<a id=\"two\"></a>\n",
        "\n",
        "# 2. Подготовка датасета.\n",
        "Используется набор данных MNIST Fashion \n",
        "\n",
        "https://www.kaggle.com/zalando-research/fashionmnist"
      ]
    },
    {
      "cell_type": "code",
      "metadata": {
        "colab": {
          "base_uri": "https://localhost:8080/"
        },
        "id": "CIQSSv57eSY5",
        "outputId": "d54e5957-5d40-4dfa-85b9-c17388d088ee"
      },
      "source": [
        "drive.mount('/content/drive')"
      ],
      "execution_count": 2,
      "outputs": [
        {
          "output_type": "stream",
          "name": "stdout",
          "text": [
            "Mounted at /content/drive\n"
          ]
        }
      ]
    },
    {
      "cell_type": "code",
      "metadata": {
        "execution": {
          "iopub.execute_input": "2021-02-06T15:02:24.391558Z",
          "iopub.status.busy": "2021-02-06T15:02:24.390907Z",
          "iopub.status.idle": "2021-02-06T15:02:32.424729Z",
          "shell.execute_reply": "2021-02-06T15:02:32.425268Z"
        },
        "papermill": {
          "duration": 8.05936,
          "end_time": "2021-02-06T15:02:32.425436",
          "exception": false,
          "start_time": "2021-02-06T15:02:24.366076",
          "status": "completed"
        },
        "tags": [],
        "id": "kLzcFZTmbbOa"
      },
      "source": [
        "# Чтение датасета\n",
        "# train_x = изображения вещей\n",
        "# train_y = маркировка вещей\n",
        "train = pd.read_csv(\"/content/drive/MyDrive/ITIB/Autoencoder_demo/data/fashion-mnist_train.csv\")\n",
        "train_x = train[list(train.columns)[1:]].values\n",
        "train_y = train['label'].values"
      ],
      "execution_count": 3,
      "outputs": []
    },
    {
      "cell_type": "code",
      "metadata": {
        "colab": {
          "base_uri": "https://localhost:8080/"
        },
        "id": "ZgUeqO7VRWXm",
        "outputId": "b686bcdf-fa48-4882-d9c6-e6ba7b13eede"
      },
      "source": [
        "train_x[:1] "
      ],
      "execution_count": 4,
      "outputs": [
        {
          "output_type": "execute_result",
          "data": {
            "text/plain": [
              "array([[  0,   0,   0,   0,   0,   0,   0,   0,   0,   0,   0,   0,   0,\n",
              "          0,   0,   0,   0,   0,   0,   0,   0,   0,   0,   0,   0,   0,\n",
              "          0,   0,   0,   0,   0,   0,   0,   0,   0,   0,   0,   0,   0,\n",
              "          0,   0,   0,   0,   0,   0,   0,   0,   0,   0,   0,   0,   0,\n",
              "          0,   0,   0,   0,   0,   0,   0,   0,   0,   0,   0,   0,   0,\n",
              "          0,   0,   0,   0,   0,   0,   0,   0,   0,   0,   0,   0,   0,\n",
              "          0,   0,   0,   0,   0,   0,   0,   0,   0,   0,   4,   0,   0,\n",
              "          0,   0,   0,  62,  61,  21,  29,  23,  51, 136,  61,   0,   0,\n",
              "          0,   0,   0,   0,   0,   0,   0,   0,   0,   0,   0,   0,   0,\n",
              "          0,   0,  88, 201, 228, 225, 255, 115,  62, 137, 255, 235, 222,\n",
              "        255, 135,   0,   0,   0,   0,   0,   0,   0,   0,   0,   0,   0,\n",
              "          0,   0,  47, 252, 234, 238, 224, 215, 215, 229, 108, 180, 207,\n",
              "        214, 224, 231, 249, 254,  45,   0,   0,   0,   0,   0,   0,   0,\n",
              "          0,   1,   0,   0, 214, 222, 210, 213, 224, 225, 217, 220, 254,\n",
              "        233, 219, 221, 217, 223, 221, 240, 254,   0,   0,   1,   0,   0,\n",
              "          0,   1,   0,   0,   0, 128, 237, 207, 224, 224, 207, 216, 214,\n",
              "        210, 208, 211, 221, 208, 219, 213, 226, 211, 237, 150,   0,   0,\n",
              "          0,   0,   0,   0,   2,   0,   0, 237, 222, 215, 207, 210, 212,\n",
              "        213, 206, 214, 213, 214, 213, 210, 215, 214, 206, 199, 218, 255,\n",
              "         13,   0,   2,   0,   0,   0,   4,   0,  85, 228, 210, 218, 200,\n",
              "        211, 208, 203, 215, 210, 209, 209, 210, 213, 211, 210, 217, 206,\n",
              "        213, 231, 175,   0,   0,   0,   0,   0,   0,   0, 217, 224, 215,\n",
              "        206, 205, 204, 217, 230, 222, 215, 224, 233, 228, 232, 228, 224,\n",
              "        207, 212, 215, 213, 229,  31,   0,   4,   0,   1,   0,  21, 225,\n",
              "        212, 212, 203, 211, 225, 193, 139, 136, 195, 147, 156, 139, 128,\n",
              "        162, 197, 223, 207, 220, 213, 232, 177,   0,   0,   0,   0,   0,\n",
              "        123, 226, 207, 211, 209, 205, 228, 158,  90, 103, 186, 138, 100,\n",
              "        121, 147, 158, 183, 226, 208, 214, 209, 216, 255,  13,   0,   1,\n",
              "          0,   0, 226, 219, 202, 208, 206, 205, 216, 184, 156, 150, 193,\n",
              "        170, 164, 168, 188, 186, 200, 219, 216, 213, 213, 211, 233, 148,\n",
              "          0,   0,   0,  45, 227, 204, 214, 211, 218, 222, 221, 230, 229,\n",
              "        221, 213, 224, 233, 226, 220, 219, 221, 224, 223, 217, 210, 218,\n",
              "        213, 254,   0,   0,   0, 157, 226, 203, 207, 211, 209, 215, 205,\n",
              "        198, 207, 208, 201, 201, 197, 203, 205, 210, 207, 213, 214, 214,\n",
              "        214, 213, 208, 234, 107,   0,   0, 235, 213, 204, 211, 210, 209,\n",
              "        213, 202, 197, 204, 215, 217, 213, 212, 210, 206, 212, 203, 211,\n",
              "        218, 215, 214, 208, 209, 222, 230,   0,  52, 255, 207, 200, 208,\n",
              "        213, 210, 210, 208, 207, 202, 201, 209, 216, 216, 216, 216, 214,\n",
              "        212, 205, 215, 201, 228, 208, 214, 212, 218,  25, 118, 217, 201,\n",
              "        206, 208, 213, 208, 205, 206, 210, 211, 202, 199, 207, 208, 209,\n",
              "        210, 207, 210, 210, 245, 139, 119, 255, 202, 203, 236, 114, 171,\n",
              "        238, 212, 203, 220, 216, 217, 209, 207, 205, 210, 211, 206, 204,\n",
              "        206, 209, 211, 215, 210, 206, 221, 242,   0, 224, 234, 230, 181,\n",
              "         26,  39, 145, 201, 255, 157, 115, 250, 200, 207, 206, 207, 213,\n",
              "        216, 206, 205, 206, 207, 206, 215, 207, 221, 238,   0,   0, 188,\n",
              "         85,   0,   0,   0,   0,   0,  31,   0, 129, 253, 190, 207, 208,\n",
              "        208, 208, 209, 211, 211, 209, 209, 209, 212, 201, 226, 165,   0,\n",
              "          0,   0,   0,   0,   0,   2,   0,   0,   0,   0,  89, 254, 199,\n",
              "        199, 192, 196, 198, 199, 201, 202, 203, 204, 203, 203, 200, 222,\n",
              "        155,   0,   3,   3,   3,   2,   0,   0,   0,   1,   5,   0,   0,\n",
              "        255, 218, 226, 232, 228, 224, 222, 220, 219, 219, 217, 221, 220,\n",
              "        212, 236,  95,   0,   2,   0,   0,   0,   0,   0,   0,   0,   0,\n",
              "          0,   0, 155, 194, 168, 170, 171, 173, 173, 179, 177, 175, 172,\n",
              "        171, 167, 161, 180,   0,   0,   1,   0,   1,   0,   0,   0,   0,\n",
              "          0,   0,   0,   0,   0,   0,   0,   0,   0,   0,   0,   0,   0,\n",
              "          0,   0,   0,   0,   0,   0,   0,   0,   0,   0,   0,   0,   0,\n",
              "          0,   0,   0,   0,   0,   0,   0,   0,   0,   0,   0,   0,   0,\n",
              "          0,   0,   0,   0,   0,   0,   0,   0,   0,   0,   0,   0,   0,\n",
              "          0,   0,   0,   0,   0,   0,   0,   0,   0,   0,   0,   0,   0,\n",
              "          0,   0,   0,   0,   0,   0,   0,   0,   0,   0,   0,   0,   0,\n",
              "          0,   0,   0,   0]])"
            ]
          },
          "metadata": {},
          "execution_count": 4
        }
      ]
    },
    {
      "cell_type": "code",
      "metadata": {
        "colab": {
          "base_uri": "https://localhost:8080/"
        },
        "id": "fRfHMkAFRaKN",
        "outputId": "f6711561-e214-4ec9-fcf2-408153edf5d3"
      },
      "source": [
        "train_y[:5]"
      ],
      "execution_count": 5,
      "outputs": [
        {
          "output_type": "execute_result",
          "data": {
            "text/plain": [
              "array([2, 9, 6, 0, 3])"
            ]
          },
          "metadata": {},
          "execution_count": 5
        }
      ]
    },
    {
      "cell_type": "code",
      "metadata": {
        "id": "qEbiwbVaRKFX"
      },
      "source": [
        "\n",
        "# нормализуем набор данных train_x в промежуток 0..1\n",
        "train_x = train_x / 255\n",
        "\n",
        "# разделим датасет на тренировочные данные(80%) и валидирующие(20%) \n",
        "train_x, val_x, train_y, val_y = train_test_split(train_x, train_y, test_size=0.2)"
      ],
      "execution_count": 6,
      "outputs": []
    },
    {
      "cell_type": "code",
      "metadata": {
        "execution": {
          "iopub.execute_input": "2021-02-06T15:02:32.456655Z",
          "iopub.status.busy": "2021-02-06T15:02:32.456035Z",
          "iopub.status.idle": "2021-02-06T15:02:32.855557Z",
          "shell.execute_reply": "2021-02-06T15:02:32.856275Z"
        },
        "papermill": {
          "duration": 0.4168,
          "end_time": "2021-02-06T15:02:32.856424",
          "exception": false,
          "start_time": "2021-02-06T15:02:32.439624",
          "status": "completed"
        },
        "tags": [],
        "colab": {
          "base_uri": "https://localhost:8080/",
          "height": 173
        },
        "id": "WvEgloEnbbOb",
        "outputId": "9b5bdaea-b961-4602-c6a1-00a812bd3ef3"
      },
      "source": [
        "#Наглядно выведем составляющие датасета\n",
        "labeldict = {\n",
        "    0: 'T-shirt/top',\n",
        "    1: 'Trouser',\n",
        "    2: 'Pullover',\n",
        "    3: 'Dress',\n",
        "    4: 'Coat',\n",
        "    5: 'Sandal',\n",
        "    6: 'Shirt',\n",
        "    7: 'Sneaker',\n",
        "    8: 'Bag',\n",
        "    9: 'Ankle boot'\n",
        "}\n",
        "x_train = np.array(train_x).reshape(-1, 28, 28) / 255.0\n",
        "fig, ax = plt.subplots(1, 5, figsize=(20, 2))\n",
        "for i in range(5):\n",
        "    ax[i].imshow(x_train[i], cmap='viridis')\n",
        "    ax[i].set_title(labeldict[train_y[i]])"
      ],
      "execution_count": 7,
      "outputs": [
        {
          "output_type": "display_data",
          "data": {
            "image/png": "[encoded data removed]",
            "text/plain": [
              "<Figure size 1440x144 with 5 Axes>"
            ]
          },
          "metadata": {
            "needs_background": "light"
          }
        }
      ]
    },
    {
      "cell_type": "code",
      "metadata": {
        "_cell_guid": "79c7e3d0-c299-4dcb-8224-4455121ee9b0",
        "_uuid": "d629ff2d2480ee46fbb7e2d37f6b5fab8052498a",
        "execution": {
          "iopub.execute_input": "2021-02-06T15:02:32.890364Z",
          "iopub.status.busy": "2021-02-06T15:02:32.889479Z",
          "iopub.status.idle": "2021-02-06T15:02:32.898271Z",
          "shell.execute_reply": "2021-02-06T15:02:32.897707Z"
        },
        "papermill": {
          "duration": 0.026804,
          "end_time": "2021-02-06T15:02:32.898384",
          "exception": false,
          "start_time": "2021-02-06T15:02:32.871580",
          "status": "completed"
        },
        "tags": [],
        "id": "u3LoqV8fbbOc"
      },
      "source": [
        "train_x = train_x.reshape(-1, 784)\n",
        "val_x = val_x.reshape(-1, 784)"
      ],
      "execution_count": 8,
      "outputs": []
    },
    {
      "cell_type": "code",
      "metadata": {
        "execution": {
          "iopub.execute_input": "2021-02-06T15:02:32.939615Z",
          "iopub.status.busy": "2021-02-06T15:02:32.938984Z",
          "iopub.status.idle": "2021-02-06T15:02:32.948826Z",
          "shell.execute_reply": "2021-02-06T15:02:32.949313Z"
        },
        "papermill": {
          "duration": 0.035932,
          "end_time": "2021-02-06T15:02:32.949459",
          "exception": false,
          "start_time": "2021-02-06T15:02:32.913527",
          "status": "completed"
        },
        "tags": [],
        "colab": {
          "base_uri": "https://localhost:8080/"
        },
        "id": "t_S3iOYUbbOc",
        "outputId": "c30ed91b-e8c1-453d-f89b-2e213ae48f1d"
      },
      "source": [
        "train_x[0]"
      ],
      "execution_count": 9,
      "outputs": [
        {
          "output_type": "execute_result",
          "data": {
            "text/plain": [
              "array([0.        , 0.        , 0.        , 0.        , 0.        ,\n",
              "       0.        , 0.        , 0.00784314, 0.        , 0.        ,\n",
              "       0.41568627, 0.78431373, 0.85882353, 0.81568627, 0.85882353,\n",
              "       0.83137255, 0.78431373, 0.50980392, 0.        , 0.        ,\n",
              "       0.00392157, 0.        , 0.        , 0.        , 0.        ,\n",
              "       0.        , 0.        , 0.        , 0.        , 0.        ,\n",
              "       0.        , 0.        , 0.        , 0.        , 0.        ,\n",
              "       0.01176471, 0.        , 0.44705882, 0.80784314, 0.78431373,\n",
              "       0.75686275, 0.66666667, 0.70196078, 0.75294118, 0.8       ,\n",
              "       0.7372549 , 0.65490196, 0.        , 0.        , 0.        ,\n",
              "       0.        , 0.        , 0.        , 0.        , 0.        ,\n",
              "       0.        , 0.        , 0.        , 0.        , 0.        ,\n",
              "       0.        , 0.        , 0.        , 0.02352941, 0.        ,\n",
              "       0.58431373, 0.63137255, 0.01960784, 0.90588235, 0.63529412,\n",
              "       0.65490196, 0.89019608, 0.29019608, 0.21176471, 0.8       ,\n",
              "       0.01176471, 0.        , 0.        , 0.        , 0.        ,\n",
              "       0.        , 0.        , 0.        , 0.        , 0.        ,\n",
              "       0.        , 0.        , 0.        , 0.        , 0.        ,\n",
              "       0.        , 0.00784314, 0.        , 0.49411765, 0.76862745,\n",
              "       0.        , 0.43529412, 0.85490196, 0.70588235, 0.83921569,\n",
              "       0.        , 0.39215686, 0.78039216, 0.0627451 , 0.        ,\n",
              "       0.        , 0.        , 0.        , 0.        , 0.        ,\n",
              "       0.        , 0.        , 0.        , 0.        , 0.        ,\n",
              "       0.        , 0.        , 0.        , 0.        , 0.        ,\n",
              "       0.        , 0.56470588, 0.80784314, 0.17254902, 0.        ,\n",
              "       0.87058824, 0.80392157, 0.5254902 , 0.        , 0.61176471,\n",
              "       0.80392157, 0.14117647, 0.        , 0.        , 0.        ,\n",
              "       0.        , 0.        , 0.        , 0.        , 0.        ,\n",
              "       0.        , 0.        , 0.        , 0.        , 0.        ,\n",
              "       0.        , 0.        , 0.        , 0.        , 0.65490196,\n",
              "       0.74901961, 0.70196078, 0.29019608, 0.78823529, 0.79215686,\n",
              "       0.50980392, 0.07058824, 0.78823529, 0.78431373, 0.33333333,\n",
              "       0.        , 0.        , 0.        , 0.        , 0.        ,\n",
              "       0.        , 0.        , 0.        , 0.        , 0.        ,\n",
              "       0.        , 0.        , 0.        , 0.        , 0.        ,\n",
              "       0.        , 0.03921569, 0.72156863, 0.69019608, 0.74901961,\n",
              "       0.74901961, 0.69803922, 0.71372549, 0.76862745, 0.74901961,\n",
              "       0.61960784, 0.74901961, 0.44313725, 0.        , 0.        ,\n",
              "       0.        , 0.        , 0.        , 0.        , 0.        ,\n",
              "       0.        , 0.        , 0.        , 0.        , 0.        ,\n",
              "       0.        , 0.        , 0.        , 0.        , 0.24313725,\n",
              "       0.7372549 , 0.62745098, 0.63529412, 0.65490196, 0.69019608,\n",
              "       0.70196078, 0.76862745, 0.67058824, 0.61960784, 0.75686275,\n",
              "       0.48627451, 0.        , 0.        , 0.        , 0.        ,\n",
              "       0.        , 0.        , 0.        , 0.        , 0.        ,\n",
              "       0.        , 0.        , 0.        , 0.        , 0.        ,\n",
              "       0.        , 0.        , 0.57647059, 0.75686275, 0.69019608,\n",
              "       0.68627451, 0.68235294, 0.70196078, 0.67843137, 0.72156863,\n",
              "       0.74901961, 0.66666667, 0.74117647, 0.8       , 0.        ,\n",
              "       0.        , 0.        , 0.        , 0.        , 0.        ,\n",
              "       0.        , 0.        , 0.        , 0.        , 0.        ,\n",
              "       0.        , 0.        , 0.        , 0.        , 0.        ,\n",
              "       0.66666667, 0.78823529, 0.76862745, 0.76470588, 0.74901961,\n",
              "       0.75294118, 0.75686275, 0.74901961, 0.80392157, 0.73333333,\n",
              "       0.79215686, 0.65098039, 0.        , 0.        , 0.        ,\n",
              "       0.        , 0.        , 0.        , 0.        , 0.        ,\n",
              "       0.        , 0.        , 0.        , 0.        , 0.        ,\n",
              "       0.        , 0.        , 0.        , 0.53333333, 0.81960784,\n",
              "       0.8       , 0.79215686, 0.78431373, 0.74901961, 0.7372549 ,\n",
              "       0.83137255, 0.85882353, 0.84313725, 0.9254902 , 0.68627451,\n",
              "       0.        , 0.        , 0.        , 0.        , 0.        ,\n",
              "       0.        , 0.        , 0.        , 0.        , 0.        ,\n",
              "       0.        , 0.        , 0.        , 0.        , 0.        ,\n",
              "       0.        , 0.41568627, 0.80784314, 0.7372549 , 0.74117647,\n",
              "       0.78431373, 0.75686275, 0.7372549 , 0.76862745, 0.86666667,\n",
              "       0.82352941, 0.91764706, 0.61176471, 0.        , 0.        ,\n",
              "       0.        , 0.        , 0.        , 0.        , 0.        ,\n",
              "       0.        , 0.        , 0.        , 0.        , 0.        ,\n",
              "       0.        , 0.        , 0.        , 0.        , 0.38431373,\n",
              "       0.83137255, 0.72941176, 0.69019608, 0.80784314, 0.79215686,\n",
              "       0.8       , 0.80784314, 0.78039216, 0.80784314, 0.89411765,\n",
              "       0.38431373, 0.        , 0.        , 0.        , 0.        ,\n",
              "       0.        , 0.        , 0.        , 0.        , 0.        ,\n",
              "       0.        , 0.        , 0.        , 0.        , 0.        ,\n",
              "       0.        , 0.        , 0.25490196, 0.83137255, 0.75294118,\n",
              "       0.74901961, 0.81568627, 0.78039216, 0.8       , 0.83529412,\n",
              "       0.83921569, 0.83529412, 0.83921569, 0.16078431, 0.        ,\n",
              "       0.        , 0.        , 0.        , 0.        , 0.        ,\n",
              "       0.        , 0.        , 0.        , 0.        , 0.        ,\n",
              "       0.        , 0.        , 0.        , 0.        , 0.        ,\n",
              "       0.18823529, 0.81960784, 0.74901961, 0.77254902, 0.78431373,\n",
              "       0.76862745, 0.79215686, 0.80392157, 0.83921569, 0.85490196,\n",
              "       0.83921569, 0.07058824, 0.        , 0.        , 0.        ,\n",
              "       0.        , 0.        , 0.        , 0.        , 0.        ,\n",
              "       0.        , 0.        , 0.        , 0.        , 0.        ,\n",
              "       0.        , 0.        , 0.00392157, 0.15294118, 0.80392157,\n",
              "       0.80392157, 0.78823529, 0.8       , 0.74117647, 0.78039216,\n",
              "       0.78431373, 0.78823529, 0.83921569, 0.86666667, 0.09411765,\n",
              "       0.        , 0.        , 0.        , 0.        , 0.        ,\n",
              "       0.        , 0.        , 0.        , 0.        , 0.        ,\n",
              "       0.        , 0.        , 0.        , 0.        , 0.        ,\n",
              "       0.        , 0.16078431, 0.8       , 0.81568627, 0.76470588,\n",
              "       0.80784314, 0.80784314, 0.79215686, 0.74117647, 0.75686275,\n",
              "       0.82352941, 0.90196078, 0.21176471, 0.        , 0.        ,\n",
              "       0.        , 0.        , 0.        , 0.        , 0.        ,\n",
              "       0.        , 0.        , 0.        , 0.        , 0.        ,\n",
              "       0.        , 0.        , 0.        , 0.        , 0.3254902 ,\n",
              "       0.84313725, 0.76862745, 0.76862745, 0.76470588, 0.82352941,\n",
              "       0.83921569, 0.79215686, 0.80392157, 0.81568627, 0.91764706,\n",
              "       0.38039216, 0.        , 0.        , 0.        , 0.        ,\n",
              "       0.        , 0.        , 0.        , 0.        , 0.        ,\n",
              "       0.        , 0.        , 0.        , 0.        , 0.        ,\n",
              "       0.        , 0.        , 0.56470588, 0.85882353, 0.78823529,\n",
              "       0.7372549 , 0.78431373, 0.78823529, 0.83137255, 0.81568627,\n",
              "       0.78823529, 0.79215686, 0.91764706, 0.56862745, 0.        ,\n",
              "       0.        , 0.        , 0.        , 0.        , 0.        ,\n",
              "       0.        , 0.        , 0.        , 0.        , 0.        ,\n",
              "       0.        , 0.        , 0.        , 0.        , 0.        ,\n",
              "       0.70196078, 0.83921569, 0.81960784, 0.78823529, 0.74901961,\n",
              "       0.73333333, 0.80784314, 0.83529412, 0.77254902, 0.78431373,\n",
              "       0.88627451, 0.81568627, 0.        , 0.        , 0.        ,\n",
              "       0.        , 0.        , 0.        , 0.        , 0.        ,\n",
              "       0.        , 0.        , 0.        , 0.        , 0.        ,\n",
              "       0.        , 0.        , 0.        , 0.81960784, 0.81960784,\n",
              "       0.80784314, 0.83137255, 0.78039216, 0.75294118, 0.8       ,\n",
              "       0.83137255, 0.80784314, 0.8       , 0.85098039, 0.9254902 ,\n",
              "       0.        , 0.        , 0.        , 0.        , 0.        ,\n",
              "       0.        , 0.        , 0.        , 0.        , 0.        ,\n",
              "       0.        , 0.        , 0.        , 0.        , 0.        ,\n",
              "       0.00392157, 0.90196078, 0.78431373, 0.74117647, 0.75686275,\n",
              "       0.78823529, 0.78823529, 0.78431373, 0.84313725, 0.81960784,\n",
              "       0.83921569, 0.85098039, 0.83921569, 0.        , 0.        ,\n",
              "       0.        , 0.        , 0.        , 0.        , 0.        ,\n",
              "       0.        , 0.        , 0.        , 0.        , 0.        ,\n",
              "       0.        , 0.        , 0.        , 0.14509804, 0.91764706,\n",
              "       0.78823529, 0.78039216, 0.77254902, 0.8       , 0.79215686,\n",
              "       0.78039216, 0.85882353, 0.81568627, 0.84313725, 0.84313725,\n",
              "       0.90588235, 0.1254902 , 0.        , 0.        , 0.        ,\n",
              "       0.        , 0.        , 0.        , 0.        , 0.        ,\n",
              "       0.        , 0.        , 0.        , 0.        , 0.        ,\n",
              "       0.        , 0.29803922, 0.80392157, 0.8       , 0.78823529,\n",
              "       0.8       , 0.79215686, 0.79215686, 0.78823529, 0.85490196,\n",
              "       0.81960784, 0.8       , 0.81568627, 0.88627451, 0.23921569,\n",
              "       0.        , 0.        , 0.        , 0.        , 0.        ,\n",
              "       0.        , 0.        , 0.        , 0.        , 0.        ,\n",
              "       0.        , 0.        , 0.        , 0.        , 0.38431373,\n",
              "       0.80392157, 0.78823529, 0.76862745, 0.77254902, 0.81568627,\n",
              "       0.76470588, 0.77254902, 0.85882353, 0.85098039, 0.83921569,\n",
              "       0.84313725, 0.90588235, 0.31372549, 0.        , 0.        ,\n",
              "       0.        , 0.        , 0.        , 0.        , 0.        ,\n",
              "       0.        , 0.        , 0.        , 0.        , 0.        ,\n",
              "       0.        , 0.        , 0.56470588, 0.84313725, 0.76862745,\n",
              "       0.75686275, 0.7372549 , 0.78431373, 0.76862745, 0.74901961,\n",
              "       0.82352941, 0.8745098 , 0.81568627, 0.85490196, 0.94117647,\n",
              "       0.53333333, 0.        , 0.        , 0.        , 0.        ,\n",
              "       0.        , 0.        , 0.        , 0.        , 0.        ,\n",
              "       0.        , 0.        , 0.        , 0.        , 0.        ,\n",
              "       0.23137255, 0.88627451, 0.81960784, 0.83529412, 0.76862745,\n",
              "       0.85490196, 0.82352941, 0.83529412, 0.83529412, 0.90588235,\n",
              "       0.88627451, 0.86666667, 1.        , 0.38431373, 0.        ,\n",
              "       0.        , 0.        , 0.        , 0.        , 0.        ,\n",
              "       0.        , 0.        , 0.        , 0.        , 0.        ,\n",
              "       0.        , 0.        , 0.        , 0.        , 0.        ,\n",
              "       0.20784314, 0.47843137, 0.6627451 , 0.78823529, 0.78039216,\n",
              "       0.81960784, 0.80392157, 0.74117647, 0.55294118, 0.27843137,\n",
              "       0.        , 0.        , 0.        , 0.        , 0.        ,\n",
              "       0.        , 0.        , 0.        , 0.        ])"
            ]
          },
          "metadata": {},
          "execution_count": 9
        }
      ]
    },
    {
      "cell_type": "markdown",
      "metadata": {
        "papermill": {
          "duration": 0.015787,
          "end_time": "2021-02-06T15:02:33.013046",
          "exception": false,
          "start_time": "2021-02-06T15:02:32.997259",
          "status": "completed"
        },
        "tags": [],
        "id": "oj21NkiUbbOe"
      },
      "source": [
        "\n",
        "\n",
        "# 3. Моделирование нейросети (вход ~ выход)\n"
      ]
    },
    {
      "cell_type": "code",
      "metadata": {
        "execution": {
          "iopub.execute_input": "2021-02-06T15:02:33.054034Z",
          "iopub.status.busy": "2021-02-06T15:02:33.053339Z",
          "iopub.status.idle": "2021-02-06T15:02:33.249731Z",
          "shell.execute_reply": "2021-02-06T15:02:33.250383Z"
        },
        "papermill": {
          "duration": 0.221514,
          "end_time": "2021-02-06T15:02:33.250562",
          "exception": false,
          "start_time": "2021-02-06T15:02:33.029048",
          "status": "completed"
        },
        "tags": [],
        "colab": {
          "base_uri": "https://localhost:8080/"
        },
        "id": "zZgEIaACbbOe",
        "outputId": "06be6036-64cd-4ec5-fbee-a217df4e2ec1"
      },
      "source": [
        "## Входной слой\n",
        "input_layer = Input(shape=(784,))\n",
        "\n",
        "## Слои кодировки\n",
        "encode_layer1 = Dense(1500, activation='relu')(input_layer)\n",
        "encode_layer2 = Dense(1000, activation='relu')(encode_layer1)\n",
        "encode_layer3 = Dense(500, activation='relu')(encode_layer2)\n",
        "\n",
        "## Слой представления\n",
        "latent_view   = Dense(10, activation='sigmoid')(encode_layer3)\n",
        "\n",
        "## Слои декодировки\n",
        "decode_layer1 = Dense(500, activation='relu')(latent_view)\n",
        "decode_layer2 = Dense(1000, activation='relu')(decode_layer1)\n",
        "decode_layer3 = Dense(1500, activation='relu')(decode_layer2)\n",
        "\n",
        "## Выходной слой\n",
        "output_layer  = Dense(784)(decode_layer3)\n",
        "\n",
        "model = Model(input_layer, output_layer)\n",
        "model.summary()"
      ],
      "execution_count": 18,
      "outputs": [
        {
          "output_type": "stream",
          "name": "stdout",
          "text": [
            "Model: \"model_2\"\n",
            "_________________________________________________________________\n",
            " Layer (type)                Output Shape              Param #   \n",
            "=================================================================\n",
            " input_3 (InputLayer)        [(None, 784)]             0         \n",
            "                                                                 \n",
            " dense_16 (Dense)            (None, 1500)              1177500   \n",
            "                                                                 \n",
            " dense_17 (Dense)            (None, 1000)              1501000   \n",
            "                                                                 \n",
            " dense_18 (Dense)            (None, 500)               500500    \n",
            "                                                                 \n",
            " dense_19 (Dense)            (None, 10)                5010      \n",
            "                                                                 \n",
            " dense_20 (Dense)            (None, 500)               5500      \n",
            "                                                                 \n",
            " dense_21 (Dense)            (None, 1000)              501000    \n",
            "                                                                 \n",
            " dense_22 (Dense)            (None, 1500)              1501500   \n",
            "                                                                 \n",
            " dense_23 (Dense)            (None, 784)               1176784   \n",
            "                                                                 \n",
            "=================================================================\n",
            "Total params: 6,368,794\n",
            "Trainable params: 6,368,794\n",
            "Non-trainable params: 0\n",
            "_________________________________________________________________\n"
          ]
        }
      ]
    },
    {
      "cell_type": "markdown",
      "metadata": {
        "papermill": {
          "duration": 0.016983,
          "end_time": "2021-02-06T15:02:33.332428",
          "exception": false,
          "start_time": "2021-02-06T15:02:33.315445",
          "status": "completed"
        },
        "tags": [],
        "id": "BdlazwdobbOf"
      },
      "source": [
        "<a id=\"four\"></a>\n",
        "\n",
        "# 4. Тренировка нейросети"
      ]
    },
    {
      "cell_type": "code",
      "metadata": {
        "id": "PZb4ekxDfGsh"
      },
      "source": [
        "#earlystopping - фича tf для остановки обучения если параметр прекратил изменяться в процессе обучения\n",
        "model.compile(optimizer='adam', loss='mse')\n",
        "early_stopping = EarlyStopping(monitor='val_loss', min_delta=0, patience=10, verbose=1, mode='auto')\n",
        "model.fit(train_x, train_x, epochs=15, batch_size=2048, validation_data=(val_x, val_x), callbacks=[early_stopping])"
      ],
      "execution_count": null,
      "outputs": []
    },
    {
      "cell_type": "code",
      "metadata": {
        "execution": {
          "iopub.execute_input": "2021-02-06T15:02:33.381964Z",
          "iopub.status.busy": "2021-02-06T15:02:33.380883Z",
          "iopub.status.idle": "2021-02-06T15:07:51.104053Z",
          "shell.execute_reply": "2021-02-06T15:07:51.103495Z"
        },
        "papermill": {
          "duration": 317.754504,
          "end_time": "2021-02-06T15:07:51.104181",
          "exception": false,
          "start_time": "2021-02-06T15:02:33.349677",
          "status": "completed"
        },
        "tags": [],
        "colab": {
          "base_uri": "https://localhost:8080/"
        },
        "id": "G_5qT6oAbbOf",
        "outputId": "b3371faa-3c0d-4910-f3fe-8f67e5b8852a"
      },
      "source": [
        "model.compile(optimizer='adam', loss='mse')\n",
        "model.fit(train_x, train_x, epochs=15, batch_size=2048, validation_data=(val_x, val_x))"
      ],
      "execution_count": 19,
      "outputs": [
        {
          "output_type": "stream",
          "name": "stdout",
          "text": [
            "Epoch 1/15\n",
            "24/24 [==============================] - 34s 1s/step - loss: 0.0977 - val_loss: 0.0715\n",
            "Epoch 2/15\n",
            "24/24 [==============================] - 33s 1s/step - loss: 0.0653 - val_loss: 0.0577\n",
            "Epoch 3/15\n",
            "24/24 [==============================] - 33s 1s/step - loss: 0.0509 - val_loss: 0.0441\n",
            "Epoch 4/15\n",
            "24/24 [==============================] - 33s 1s/step - loss: 0.0407 - val_loss: 0.0384\n",
            "Epoch 5/15\n",
            "24/24 [==============================] - 33s 1s/step - loss: 0.0366 - val_loss: 0.0351\n",
            "Epoch 6/15\n",
            "24/24 [==============================] - 33s 1s/step - loss: 0.0332 - val_loss: 0.0316\n",
            "Epoch 7/15\n",
            "24/24 [==============================] - 33s 1s/step - loss: 0.0303 - val_loss: 0.0285\n",
            "Epoch 8/15\n",
            "24/24 [==============================] - 33s 1s/step - loss: 0.0277 - val_loss: 0.0263\n",
            "Epoch 9/15\n",
            "24/24 [==============================] - 33s 1s/step - loss: 0.0256 - val_loss: 0.0250\n",
            "Epoch 10/15\n",
            "24/24 [==============================] - 33s 1s/step - loss: 0.0246 - val_loss: 0.0240\n",
            "Epoch 11/15\n",
            "24/24 [==============================] - 33s 1s/step - loss: 0.0236 - val_loss: 0.0233\n",
            "Epoch 12/15\n",
            "24/24 [==============================] - 33s 1s/step - loss: 0.0227 - val_loss: 0.0225\n",
            "Epoch 13/15\n",
            "24/24 [==============================] - 33s 1s/step - loss: 0.0223 - val_loss: 0.0226\n",
            "Epoch 14/15\n",
            "24/24 [==============================] - 33s 1s/step - loss: 0.0215 - val_loss: 0.0211\n",
            "Epoch 15/15\n",
            "24/24 [==============================] - 33s 1s/step - loss: 0.0212 - val_loss: 0.0213\n"
          ]
        },
        {
          "output_type": "execute_result",
          "data": {
            "text/plain": [
              "<keras.callbacks.History at 0x7f579887ec10>"
            ]
          },
          "metadata": {},
          "execution_count": 19
        }
      ]
    },
    {
      "cell_type": "code",
      "metadata": {
        "execution": {
          "iopub.execute_input": "2021-02-06T15:07:51.508482Z",
          "iopub.status.busy": "2021-02-06T15:07:51.507204Z",
          "iopub.status.idle": "2021-02-06T15:07:54.659084Z",
          "shell.execute_reply": "2021-02-06T15:07:54.658366Z"
        },
        "papermill": {
          "duration": 3.366043,
          "end_time": "2021-02-06T15:07:54.659263",
          "exception": false,
          "start_time": "2021-02-06T15:07:51.293220",
          "status": "completed"
        },
        "tags": [],
        "id": "NI6EVsShbbOg"
      },
      "source": [
        "preds = model.predict(val_x)"
      ],
      "execution_count": 20,
      "outputs": []
    },
    {
      "cell_type": "code",
      "metadata": {
        "execution": {
          "iopub.execute_input": "2021-02-06T15:07:55.038507Z",
          "iopub.status.busy": "2021-02-06T15:07:55.037783Z",
          "iopub.status.idle": "2021-02-06T15:07:56.226587Z",
          "shell.execute_reply": "2021-02-06T15:07:56.226015Z"
        },
        "papermill": {
          "duration": 1.38213,
          "end_time": "2021-02-06T15:07:56.226698",
          "exception": false,
          "start_time": "2021-02-06T15:07:54.844568",
          "status": "completed"
        },
        "tags": [],
        "colab": {
          "base_uri": "https://localhost:8080/",
          "height": 337
        },
        "id": "pfksxYT2bbOg",
        "outputId": "d7789b5e-fba7-461c-eab3-2a32a0f528ab"
      },
      "source": [
        "#Изначальные картинки val_x\n",
        "from PIL import Image \n",
        "f, ax = plt.subplots(1,5)\n",
        "f.set_size_inches(80, 40)\n",
        "for i in range(5):\n",
        "    ax[i].imshow(val_x[i].reshape(28, 28))\n",
        "plt.show()"
      ],
      "execution_count": 21,
      "outputs": [
        {
          "output_type": "display_data",
          "data": {
            "image/png": "[encoded data removed]",
            "text/plain": [
              "<Figure size 5760x2880 with 5 Axes>"
            ]
          },
          "metadata": {
            "needs_background": "light"
          }
        }
      ]
    },
    {
      "cell_type": "markdown",
      "metadata": {
        "papermill": {
          "duration": 0.184765,
          "end_time": "2021-02-06T15:07:56.597315",
          "exception": false,
          "start_time": "2021-02-06T15:07:56.412550",
          "status": "completed"
        },
        "tags": [],
        "id": "9iZ2VrI6bbOg"
      },
      "source": [
        "<a id=\"five\"></a>\n",
        "\n",
        "# 5. Результат работы"
      ]
    },
    {
      "cell_type": "code",
      "metadata": {
        "execution": {
          "iopub.execute_input": "2021-02-06T15:07:56.980360Z",
          "iopub.status.busy": "2021-02-06T15:07:56.979627Z",
          "iopub.status.idle": "2021-02-06T15:07:58.116749Z",
          "shell.execute_reply": "2021-02-06T15:07:58.116146Z"
        },
        "papermill": {
          "duration": 1.334272,
          "end_time": "2021-02-06T15:07:58.116883",
          "exception": false,
          "start_time": "2021-02-06T15:07:56.782611",
          "status": "completed"
        },
        "tags": [],
        "colab": {
          "base_uri": "https://localhost:8080/",
          "height": 337
        },
        "id": "Kd9MFCUkbbOh",
        "outputId": "722275c5-f6b5-4a8f-aeec-7b02e878b5b4"
      },
      "source": [
        "#Картинки после автоэнкодера preds\n",
        "f, ax = plt.subplots(1,5)\n",
        "f.set_size_inches(80, 40)\n",
        "for i in range(5):\n",
        "    ax[i].imshow(preds[i].reshape(28, 28))\n",
        "plt.show()"
      ],
      "execution_count": 22,
      "outputs": [
        {
          "output_type": "display_data",
          "data": {
            "image/png": "[encoded data removed]",
            "text/plain": [
              "<Figure size 5760x2880 with 5 Axes>"
            ]
          },
          "metadata": {
            "needs_background": "light"
          }
        }
      ]
    }
  ]
}